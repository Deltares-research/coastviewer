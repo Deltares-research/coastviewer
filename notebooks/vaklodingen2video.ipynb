{
 "cells": [
  {
   "cell_type": "code",
   "execution_count": 6,
   "metadata": {},
   "outputs": [],
   "source": [
    "import netCDF4\n",
    "import pycpt\n",
    "import cv2\n",
    "import numpy as np\n",
    "import matplotlib.pyplot as plt\n",
    "import scipy.interpolate\n",
    "%matplotlib inline"
   ]
  },
  {
   "cell_type": "code",
   "execution_count": 2,
   "metadata": {},
   "outputs": [],
   "source": [
    "cmap = pycpt.load.cmap_from_cptcity_url('ngdc/ETOPO1.cpt')"
   ]
  },
  {
   "cell_type": "code",
   "execution_count": 3,
   "metadata": {},
   "outputs": [],
   "source": [
    "ds = netCDF4.Dataset('http://opendap.deltares.nl/thredds/dodsC/opendap/rijkswaterstaat/vaklodingen/vaklodingenKB135_1110.nc')"
   ]
  },
  {
   "cell_type": "code",
   "execution_count": 4,
   "metadata": {},
   "outputs": [],
   "source": [
    "times = netCDF4.num2date(ds.variables['time'][:], ds.variables['time'].units)\n",
    "z = ds.variables['z'][:]\n"
   ]
  },
  {
   "cell_type": "code",
   "execution_count": 7,
   "metadata": {},
   "outputs": [],
   "source": [
    "# TODO: morph morphologies, using an approach like: https://pdfs.semanticscholar.org/4912/7dc9a652029ba08e982b11be5735ce92e440.pdf\n",
    "# using cv2 dense optical flow "
   ]
  },
  {
   "cell_type": "code",
   "execution_count": 8,
   "metadata": {},
   "outputs": [],
   "source": [
    "# scipy.interpolate.LinearNDInterpolator()\n",
    "timestamps = np.array([t.timestamp() for t in times])"
   ]
  },
  {
   "cell_type": "code",
   "execution_count": 15,
   "metadata": {},
   "outputs": [],
   "source": [
    "def interp_bathy(timestamps, z):\n",
    "    interp = scipy.interpolate.interp1d(timestamps, z)\n",
    "    def fill_interp(t):\n",
    "        z_interp = interp(t)\n",
    "        mask = np.isnan(z_interp)\n",
    "        return np.ma.masked_invalid(z_interp)\n",
    "    return fill_interp\n",
    "\n",
    "def fill_mask_with_last(arr):\n",
    "    \"\"\"fill masked values with previous value\"\"\"\n",
    "    # indices of previous value\n",
    "    prev = np.arange(len(arr))\n",
    "    # keep using the same value (don't accumulate)\n",
    "    prev[arr.mask] = 0\n",
    "    # next value\n",
    "    prev = np.maximum.accumulate(prev)\n",
    "    return arr[prev]"
   ]
  },
  {
   "cell_type": "code",
   "execution_count": null,
   "metadata": {},
   "outputs": [],
   "source": []
  },
  {
   "cell_type": "code",
   "execution_count": 16,
   "metadata": {},
   "outputs": [
    {
     "data": {
      "text/plain": [
       "masked_array(data = [-- 2 2 2 5 5],\n",
       "             mask = [ True False False False False False],\n",
       "       fill_value = 999999)"
      ]
     },
     "execution_count": 16,
     "metadata": {},
     "output_type": "execute_result"
    }
   ],
   "source": [
    "# test\n",
    "fill_mask_with_last(\n",
    "    np.ma.masked_array([1, 2, 3, 4, 5, 0], mask=[1, 0, 1, 1, 0, 1])\n",
    ")"
   ]
  },
  {
   "cell_type": "code",
   "execution_count": 26,
   "metadata": {},
   "outputs": [],
   "source": [
    "z_filled = np.apply_along_axis(fill_mask_with_last, 0, z)"
   ]
  },
  {
   "cell_type": "code",
   "execution_count": 18,
   "metadata": {},
   "outputs": [],
   "source": [
    "import ipywidgets"
   ]
  },
  {
   "cell_type": "code",
   "execution_count": 24,
   "metadata": {},
   "outputs": [],
   "source": [
    "interp = interp_bathy(timestamps, np.moveaxis(z_filled, 0, 2).filled(np.nan))\n",
    "\n",
    "def plot(t0_idx=(0, len(times)), t1_idx=(0, len(times))):\n",
    "    fig, axes = plt.subplots(1, 3, figsize=(13, 10))\n",
    "    axes[0].imshow(z_filled[t0_idx], cmap=cmap, vmin=-20, vmax=20)\n",
    "    axes[1].imshow(interp(0.5 * timestamps[t0_idx] + 0.5 * timestamps[t1_idx]), cmap=cmap, vmin=-20, vmax=20)\n",
    "    axes[2].imshow(z_filled[t1_idx], cmap=cmap, vmin=-20, vmax=20)"
   ]
  },
  {
   "cell_type": "code",
   "execution_count": 25,
   "metadata": {},
   "outputs": [
    {
     "data": {
      "application/vnd.jupyter.widget-view+json": {
       "model_id": "f9d46488c44a4efcb1e8f4ef38900a2a",
       "version_major": 2,
       "version_minor": 0
      },
      "text/html": [
       "<p>Failed to display Jupyter Widget of type <code>interactive</code>.</p>\n",
       "<p>\n",
       "  If you're reading this message in Jupyter Notebook or JupyterLab, it may mean\n",
       "  that the widgets JavaScript is still loading. If this message persists, it\n",
       "  likely means that the widgets JavaScript library is either not installed or\n",
       "  not enabled. See the <a href=\"https://ipywidgets.readthedocs.io/en/stable/user_install.html\">Jupyter\n",
       "  Widgets Documentation</a> for setup instructions.\n",
       "</p>\n",
       "<p>\n",
       "  If you're reading this message in another notebook frontend (for example, a static\n",
       "  rendering on GitHub or <a href=\"https://nbviewer.jupyter.org/\">NBViewer</a>),\n",
       "  it may mean that your frontend doesn't currently support widgets.\n",
       "</p>\n"
      ],
      "text/plain": [
       "interactive(children=(IntSlider(value=8, description='t0_idx', max=17), IntSlider(value=8, description='t1_idx', max=17), Output()), _dom_classes=('widget-interact',))"
      ]
     },
     "metadata": {},
     "output_type": "display_data"
    }
   ],
   "source": [
    "ipywidgets.interactive(plot)"
   ]
  },
  {
   "cell_type": "code",
   "execution_count": 167,
   "metadata": {},
   "outputs": [
    {
     "data": {
      "text/plain": [
       "(625, 500, 17)"
      ]
     },
     "execution_count": 167,
     "metadata": {},
     "output_type": "execute_result"
    }
   ],
   "source": [
    "interp(0.5 * timestamps[t0_idx] + 0.5 * timestamps[t1_idx]).shape"
   ]
  },
  {
   "cell_type": "code",
   "execution_count": null,
   "metadata": {},
   "outputs": [],
   "source": []
  }
 ],
 "metadata": {
  "kernelspec": {
   "display_name": "Python 3",
   "language": "python",
   "name": "python3"
  },
  "language_info": {
   "codemirror_mode": {
    "name": "ipython",
    "version": 3
   },
   "file_extension": ".py",
   "mimetype": "text/x-python",
   "name": "python",
   "nbconvert_exporter": "python",
   "pygments_lexer": "ipython3",
   "version": "3.6.3"
  }
 },
 "nbformat": 4,
 "nbformat_minor": 2
}
