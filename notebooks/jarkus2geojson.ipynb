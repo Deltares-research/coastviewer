{
 "cells": [
  {
   "cell_type": "code",
   "execution_count": 1,
   "metadata": {
    "collapsed": true
   },
   "outputs": [],
   "source": [
    "import io\n",
    "import re\n",
    "import itertools\n",
    "\n",
    "import geojson\n",
    "import netCDF4\n",
    "import pandas\n",
    "import numpy as np\n"
   ]
  },
  {
   "cell_type": "code",
   "execution_count": 32,
   "metadata": {},
   "outputs": [],
   "source": [
    "ds = netCDF4.Dataset('../data/transect.nc')\n",
    "\n",
    "ids = ds.variables['id'][:]\n",
    "\n",
    "id_ = 7003900\n",
    "\n",
    "def transect2features(id_):\n",
    "    transect_idx = np.searchsorted(ids, id_)\n",
    "\n",
    "    variables = {\n",
    "        'lat': {\"var\": 'lat', \"slice\": np.s_[transect_idx, :]},\n",
    "        'lon': {\"var\": 'lon', \"slice\": np.s_[transect_idx, :]},\n",
    "        'z': {\"var\": 'altitude', \"slice\": np.s_[:, transect_idx, :]},\n",
    "        \"t\": {\"var\": 'time', \"slice\": np.s_[:]}\n",
    "\n",
    "    }\n",
    "    data = {}\n",
    "    for var, props in variables.items():\n",
    "        data[var] = ds.variables[props['var']][props['slice']]\n",
    "\n",
    "\n",
    "    for t, row in zip(data['t'], data['z']):\n",
    "        coords = pandas.DataFrame(data=dict(\n",
    "            lon=data['lon'], \n",
    "            lat=data['lat'],\n",
    "            z=row\n",
    "        ))\n",
    "        coordinates = coords.dropna().values.tolist()\n",
    "        if not coordinates:\n",
    "            continue\n",
    "        geometry = geojson.LineString(coordinates=coordinates)\n",
    "        date = netCDF4.num2date(t, ds.variables['time'].units)\n",
    "        properties = {\n",
    "            \"date\": date.isoformat(),\n",
    "            \"year\": date.year\n",
    "        }\n",
    "        yield geojson.Feature(id=\"{}-{}\".format(id_, date.year), geometry=geometry, properties=properties)\n"
   ]
  },
  {
   "cell_type": "code",
   "execution_count": 33,
   "metadata": {},
   "outputs": [],
   "source": [
    "import itertools\n",
    "import more_itertools"
   ]
  },
  {
   "cell_type": "code",
   "execution_count": 34,
   "metadata": {},
   "outputs": [
    {
     "data": {
      "application/vnd.jupyter.widget-view+json": {
       "model_id": "f205be81c9564cf4b91a96a86138838d"
      }
     },
     "metadata": {},
     "output_type": "display_data"
    },
    {
     "name": "stdout",
     "output_type": "stream",
     "text": [
      "\n"
     ]
    }
   ],
   "source": [
    "import tqdm\n",
    "\n",
    "features = []\n",
    "for id_ in tqdm.tqdm_notebook(ids):\n",
    "    features.extend(transect2features(id_))\n",
    "\n"
   ]
  },
  {
   "cell_type": "code",
   "execution_count": 35,
   "metadata": {},
   "outputs": [],
   "source": [
    "for i, chunk in enumerate(more_itertools.chunked(features, 10000)):\n",
    "    collection = geojson.FeatureCollection(chunk)\n",
    "    with open('jarkus{:03d}.json'.format(i), 'w') as f:\n",
    "        geojson.dump(collection, f)\n"
   ]
  },
  {
   "cell_type": "code",
   "execution_count": null,
   "metadata": {
    "collapsed": true
   },
   "outputs": [],
   "source": [
    "%pdb off\n"
   ]
  },
  {
   "cell_type": "code",
   "execution_count": null,
   "metadata": {
    "collapsed": true
   },
   "outputs": [],
   "source": []
  }
 ],
 "metadata": {
  "hide_input": false,
  "kernelspec": {
   "display_name": "Python 3",
   "language": "python",
   "name": "python3"
  },
  "language_info": {
   "codemirror_mode": {
    "name": "ipython",
    "version": 3
   },
   "file_extension": ".py",
   "mimetype": "text/x-python",
   "name": "python",
   "nbconvert_exporter": "python",
   "pygments_lexer": "ipython3",
   "version": "3.5.3"
  }
 },
 "nbformat": 4,
 "nbformat_minor": 2
}
