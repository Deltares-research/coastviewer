{
 "cells": [
  {
   "cell_type": "code",
   "execution_count": 15,
   "metadata": {},
   "outputs": [],
   "source": [
    "import pathlib\n",
    "import matplotlib.pyplot as plt\n",
    "import matplotlib.cm\n",
    "import numpy as np\n",
    "import netCDF4\n",
    "import cmocean\n",
    "import colorcet\n",
    "import scipy.interpolate\n",
    "\n",
    "\n",
    "import coastviewer.extra_cm\n",
    "%matplotlib inline"
   ]
  },
  {
   "cell_type": "code",
   "execution_count": 16,
   "metadata": {
    "collapsed": true
   },
   "outputs": [],
   "source": [
    "DATASETS = {\n",
    "    'transect': 'http://opendap.deltares.nl/thredds/dodsC/opendap/rijkswaterstaat/jarkus/profiles/transect.nc',  # nopep8\n",
    "    'BKL_TKL_TND': 'http://opendap.deltares.nl/thredds/dodsC/opendap/rijkswaterstaat/BKL_TKL_MKL/BKL_TKL_TND.nc',  # nopep8\n",
    "    'DF': 'http://opendap.deltares.nl/thredds/dodsC/opendap/rijkswaterstaat/DuneFoot/DF.nc',  # nopep8\n",
    "    'mkl': 'http://opendap.deltares.nl/thredds/dodsC/opendap/rijkswaterstaat/BKL_TKL_MKL/MKL.nc',  # nopep8\n",
    "    'strandbreedte': 'http://opendap.deltares.nl/thredds/dodsC/opendap/rijkswaterstaat/strandbreedte/strandbreedte.nc',  # nopep8\n",
    "    'strandlijnen': 'http://opendap.deltares.nl/thredds/dodsC/opendap/rijkswaterstaat/MHW_MLW/MHW_MLW.nc',  # nopep8\n",
    "    'suppleties': 'http://opendap.deltares.nl/thredds/dodsC/opendap/rijkswaterstaat/suppleties/suppleties.nc',  # nopep8\n",
    "    'faalkans': 'http://opendap.deltares.nl/thredds/dodsC/opendap/rijkswaterstaat/faalkans_PC-Ring/faalkans.nc'  # nopep8\n",
    "}\n",
    "local = True\n",
    "if local:\n",
    "    DATASETS['transect'] = str(pathlib.Path('../data/transect.nc'))\n"
   ]
  },
  {
   "cell_type": "code",
   "execution_count": 24,
   "metadata": {},
   "outputs": [
    {
     "name": "stdout",
     "output_type": "stream",
     "text": [
      "<class 'netCDF4._netCDF4.Variable'>\n",
      "float64 mean_high_water(alongshore)\n",
      "    long_name: mean high water level\n",
      "    units: m\n",
      "    comment: mean high water level relative to nap\n",
      "unlimited dimensions: \n",
      "current shape = (2268,)\n",
      "filling off\n",
      "\n"
     ]
    }
   ],
   "source": [
    "# global variables\n",
    "with netCDF4.Dataset(DATASETS['transect']) as ds:\n",
    "    # keep these global, for faster indexing\n",
    "    ids = ds.variables['id'][:]\n",
    "    print(ds.variables['mean_high_water'])"
   ]
  },
  {
   "cell_type": "code",
   "execution_count": 18,
   "metadata": {
    "collapsed": true
   },
   "outputs": [],
   "source": []
  },
  {
   "cell_type": "code",
   "execution_count": null,
   "metadata": {
    "collapsed": true
   },
   "outputs": [],
   "source": [
    "def fill(z):\n",
    "    \"\"\"fill z by space and then time\"\"\"\n",
    "    def fill_space(z):\n",
    "        \"\"\"fill space\"\"\"\n",
    "        x = np.arange(z.shape[0])\n",
    "        F = scipy.interpolate.interp1d(x[~z.mask], z[~z.mask], bounds_error=False)\n",
    "        z_interp = F(x)\n",
    "        z_filled = np.ma.masked_invalid(z_interp)\n",
    "        return z_filled\n",
    "    def fill_time(z):\n",
    "        \"\"\"fill time\"\"\"\n",
    "        z_filled = np.ma.masked_all_like(z)\n",
    "        for i in range(z.shape[1]):\n",
    "            arr = z[:, i]\n",
    "            # if there's no data, continue\n",
    "            if arr.mask.all():\n",
    "                continue\n",
    "            # interpolate in time\n",
    "            xp = np.arange(len(arr))\n",
    "            z_filled[:, i] = scipy.interp(xp, xp[~arr.mask], arr[~arr.mask])\n",
    "        return z_filled\n",
    "\n",
    "    filled_z = np.ma.apply_along_axis(fill_space, 1, data['z'])\n",
    "    filled_z = fill_time(filled_z)\n",
    "    return filled_z\n",
    "\n",
    "    "
   ]
  },
  {
   "cell_type": "code",
   "execution_count": 49,
   "metadata": {
    "collapsed": true
   },
   "outputs": [],
   "source": [
    "def get_transect_data(id_=7003900):\n",
    "    transect_idx = np.searchsorted(ids, id_)\n",
    "    variables = {\n",
    "        'lat': {\"var\": 'lat', \"slice\": np.s_[transect_idx, :]},\n",
    "        'lon': {\"var\": 'lon', \"slice\": np.s_[transect_idx, :]},\n",
    "        'z': {\"var\": 'altitude', \"slice\": np.s_[:, transect_idx, :]},\n",
    "        \"t\": {\"var\": 'time', \"slice\": np.s_[:]},\n",
    "        \"cross_shore\": {\"var\": \"cross_shore\", \"slice\": np.s_[:]},\n",
    "        'mean_high_water': {\"var\": 'mean_high_water', \"slice\": np.s_[transect_idx]},\n",
    "        'mean_low_water': {\"var\": 'mean_low_water', \"slice\": np.s_[transect_idx]},\n",
    "\n",
    "\n",
    "    }\n",
    "    data = {}\n",
    "    with netCDF4.Dataset(DATASETS['transect']) as ds:\n",
    "        for var, props in variables.items():\n",
    "            data[var] = ds.variables[props['var']][props['slice']]\n",
    "        time_units = ds.variables['time'].units\n",
    "    data['time'] = netCDF4.num2date(data['t'], time_units)\n",
    "    data['filled_z'] = fill(data['z'])\n",
    "    data['time_num'] = matplotlib.dates.date2num(data['time'])\n",
    "    return data\n"
   ]
  },
  {
   "cell_type": "code",
   "execution_count": 50,
   "metadata": {
    "collapsed": true
   },
   "outputs": [],
   "source": [
    "def time_map(data):\n",
    "    fig, ax = plt.subplots(figsize=(8, 3))\n",
    "    pc = ax.pcolorfast(data['cross_shore'], data['time_num'], data['filled_z'], vmin=-20, vmax=20, cmap=coastviewer.extra_cm.GMT_drywet_r)\n",
    "    cont = ax.contour(\n",
    "        data['cross_shore'], \n",
    "        data['time_num'], \n",
    "        data['z'],\n",
    "        levels=[data['mean_low_water'], data['mean_high_water'], 3],\n",
    "        cmap='PuBu'\n",
    "    )\n",
    "    # legend\n",
    "    cb = plt.colorbar(pc, ax=ax)\n",
    "\n",
    "    # labels\n",
    "    cb.set_label('Height to NAP [m]')\n",
    "    ax.set_xlabel('Cross shore distance [m]')\n",
    "    ax.set_ylabel('Measurement time [y]')\n",
    "\n",
    "    # date format\n",
    "    date_locator = matplotlib.dates.AutoDateLocator()\n",
    "    date_formatter = matplotlib.dates.AutoDateFormatter(date_locator)\n",
    "    ax.yaxis.set_major_formatter(date_formatter)\n",
    "    return fig, ax"
   ]
  },
  {
   "cell_type": "code",
   "execution_count": 51,
   "metadata": {},
   "outputs": [
    {
     "data": {
      "text/plain": [
       "(<matplotlib.figure.Figure at 0x112edc630>,\n",
       " <matplotlib.axes._subplots.AxesSubplot at 0x113b0fb00>)"
      ]
     },
     "execution_count": 51,
     "metadata": {},
     "output_type": "execute_result"
    },
    {
     "data": {
      "image/png": "[encoded data removed]",
      "text/plain": [
       "<matplotlib.figure.Figure at 0x112edc630>"
      ]
     },
     "metadata": {},
     "output_type": "display_data"
    }
   ],
   "source": [
    "data = get_transect_data()\n",
    "time_map(data)\n",
    "\n"
   ]
  },
  {
   "cell_type": "code",
   "execution_count": null,
   "metadata": {
    "collapsed": true
   },
   "outputs": [],
   "source": []
  }
 ],
 "metadata": {
  "hide_input": false,
  "kernelspec": {
   "display_name": "Python 3",
   "language": "python",
   "name": "python3"
  },
  "language_info": {
   "codemirror_mode": {
    "name": "ipython",
    "version": 3
   },
   "file_extension": ".py",
   "mimetype": "text/x-python",
   "name": "python",
   "nbconvert_exporter": "python",
   "pygments_lexer": "ipython3",
   "version": "3.5.3"
  }
 },
 "nbformat": 4,
 "nbformat_minor": 2
}
