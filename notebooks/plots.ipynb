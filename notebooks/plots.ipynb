{
 "cells": [
  {
   "cell_type": "code",
   "execution_count": 98,
   "metadata": {},
   "outputs": [],
   "source": [
    "import pathlib\n",
    "import matplotlib.pyplot as plt\n",
    "import matplotlib.cm\n",
    "import numpy as np\n",
    "import netCDF4\n",
    "import cmocean\n",
    "import colorcet\n",
    "%matplotlib inline"
   ]
  },
  {
   "cell_type": "code",
   "execution_count": 31,
   "metadata": {},
   "outputs": [],
   "source": [
    "DATASETS = {\n",
    "    'transect': 'http://opendap.deltares.nl/thredds/dodsC/opendap/rijkswaterstaat/jarkus/profiles/transect.nc',  # nopep8\n",
    "    'BKL_TKL_TND': 'http://opendap.deltares.nl/thredds/dodsC/opendap/rijkswaterstaat/BKL_TKL_MKL/BKL_TKL_TND.nc',  # nopep8\n",
    "    'DF': 'http://opendap.deltares.nl/thredds/dodsC/opendap/rijkswaterstaat/DuneFoot/DF.nc',  # nopep8\n",
    "    'mkl': 'http://opendap.deltares.nl/thredds/dodsC/opendap/rijkswaterstaat/BKL_TKL_MKL/MKL.nc',  # nopep8\n",
    "    'strandbreedte': 'http://opendap.deltares.nl/thredds/dodsC/opendap/rijkswaterstaat/strandbreedte/strandbreedte.nc',  # nopep8\n",
    "    'strandlijnen': 'http://opendap.deltares.nl/thredds/dodsC/opendap/rijkswaterstaat/MHW_MLW/MHW_MLW.nc',  # nopep8\n",
    "    'suppleties': 'http://opendap.deltares.nl/thredds/dodsC/opendap/rijkswaterstaat/suppleties/suppleties.nc',  # nopep8\n",
    "    'faalkans': 'http://opendap.deltares.nl/thredds/dodsC/opendap/rijkswaterstaat/faalkans_PC-Ring/faalkans.nc'  # nopep8\n",
    "}\n",
    "local = True\n",
    "if local:\n",
    "    DATASETS['transect'] = str(pathlib.Path('../data/transect.nc'))\n"
   ]
  },
  {
   "cell_type": "code",
   "execution_count": 25,
   "metadata": {
    "collapsed": true
   },
   "outputs": [],
   "source": [
    "# global variables\n",
    "with netCDF4.Dataset(DATASETS['transect']) as ds:\n",
    "    # keep these global, for faster indexing\n",
    "    ids = ds.variables['id'][:]"
   ]
  },
  {
   "cell_type": "code",
   "execution_count": 28,
   "metadata": {},
   "outputs": [],
   "source": [
    "id_ = 7003900\n",
    "transect_idx = np.searchsorted(ids, id_)"
   ]
  },
  {
   "cell_type": "code",
   "execution_count": 33,
   "metadata": {},
   "outputs": [],
   "source": [
    "variables = {\n",
    "    'lat': {\"var\": 'lat', \"slice\": np.s_[transect_idx, :]},\n",
    "    'lon': {\"var\": 'lon', \"slice\": np.s_[transect_idx, :]},\n",
    "    'z': {\"var\": 'altitude', \"slice\": np.s_[:, transect_idx, :]},\n",
    "    \"t\": {\"var\": 'time', \"slice\": np.s_[:]}\n",
    "\n",
    "}\n",
    "data = {}\n",
    "\n",
    "with netCDF4.Dataset(DATASETS['transect']) as ds:\n",
    "    for var, props in variables.items():\n",
    "        data[var] = ds.variables[props['var']][props['slice']]\n",
    "    time_units = ds.variables['time'].units"
   ]
  },
  {
   "cell_type": "code",
   "execution_count": 108,
   "metadata": {},
   "outputs": [
    {
     "data": {
      "text/plain": [
       "<matplotlib.image.AxesImage at 0x117907828>"
      ]
     },
     "execution_count": 108,
     "metadata": {},
     "output_type": "execute_result"
    },
    {
     "data": {
      "image/png": "[encoded data removed]",
      "text/plain": [
       "<matplotlib.figure.Figure at 0x1179077b8>"
      ]
     },
     "metadata": {},
     "output_type": "display_data"
    }
   ],
   "source": [
    "import scipy.interpolate\n",
    "def fill(z):\n",
    "    \"\"\"fill z by space and then time\"\"\"\n",
    "    def fill_space(z):\n",
    "        \"\"\"fill space\"\"\"\n",
    "        x = np.arange(z.shape[0])\n",
    "        F = scipy.interpolate.interp1d(x[~z.mask], z[~z.mask], bounds_error=False)\n",
    "        z_interp = F(x)\n",
    "        z_filled = np.ma.masked_invalid(z_interp)\n",
    "        return z_filled\n",
    "    def fill_time(z):\n",
    "        \"\"\"fill time\"\"\"\n",
    "        z_filled = np.ma.masked_all_like(z)\n",
    "        for i in range(z.shape[1]):\n",
    "            arr = z[:, i]\n",
    "            # if there's no data, continue\n",
    "            if arr.mask.all():\n",
    "                continue\n",
    "            # interpolate in time\n",
    "            xp = np.arange(len(arr))\n",
    "            z_filled[:, i] = scipy.interp(xp, xp[~arr.mask], arr[~arr.mask])\n",
    "        return z_filled\n",
    "\n",
    "    filled_z = np.ma.apply_along_axis(fill_space, 1, data['z'])\n",
    "    filled_z = fill_time(filled_z)\n",
    "    return filled_z\n",
    "\n",
    "    \n",
    "\n",
    "fig, ax = plt.subplots(figsize=(13, 8))\n",
    "filled_z = fill(data['z'])\n",
    "ax.imshow(np.ma.masked_greater(filled_z, 0), aspect=15, cmap=cmocean.cm.deep_r)\n",
    "ax.imshow(np.ma.masked_less_equal(filled_z, 0), aspect=15, cmap='hot')"
   ]
  },
  {
   "cell_type": "code",
   "execution_count": 115,
   "metadata": {},
   "outputs": [],
   "source": [
    "b = cmocean.cm.deep._segmentdata['blue'][0][1]\n",
    "r = cmocean.cm.deep._segmentdata['red'][0][1]\n",
    "g = cmocean.cm.deep._segmentdata['green'][0][1]"
   ]
  },
  {
   "cell_type": "code",
   "execution_count": 116,
   "metadata": {},
   "outputs": [
    {
     "data": {
      "text/plain": [
       "(0.99283717653836201, 0.99437345530139354, 0.80013619554949333)"
      ]
     },
     "execution_count": 116,
     "metadata": {},
     "output_type": "execute_result"
    }
   ],
   "source": [
    "r, g, b"
   ]
  },
  {
   "cell_type": "code",
   "execution_count": null,
   "metadata": {
    "collapsed": true
   },
   "outputs": [],
   "source": []
  }
 ],
 "metadata": {
  "hide_input": false,
  "kernelspec": {
   "display_name": "Python 3",
   "language": "python",
   "name": "python3"
  },
  "language_info": {
   "codemirror_mode": {
    "name": "ipython",
    "version": 3
   },
   "file_extension": ".py",
   "mimetype": "text/x-python",
   "name": "python",
   "nbconvert_exporter": "python",
   "pygments_lexer": "ipython3",
   "version": "3.5.3"
  }
 },
 "nbformat": 4,
 "nbformat_minor": 2
}
